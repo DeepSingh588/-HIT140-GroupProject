{
  "nbformat": 4,
  "nbformat_minor": 0,
  "metadata": {
    "colab": {
      "provenance": [],
      "toc_visible": true
    },
    "kernelspec": {
      "name": "python3",
      "display_name": "Python 3"
    },
    "language_info": {
      "name": "python"
    }
  },
  "cells": [
    {
      "cell_type": "code",
      "source": [
        "# Part 1: Environment Setup and Data Loading\n",
        "import pandas as pd\n",
        "import numpy as np\n",
        "import matplotlib.pyplot as plt\n",
        "import seaborn as sns\n",
        "from scipy.stats import ttest_ind\n",
        "\n",
        "# Loading the datasets\n",
        "df1 = pd.read_csv('dataset1 (1).csv')\n",
        "df2 = pd.read_csv('dataset2.csv')\n",
        "\n",
        "print(\"--- Data Loaded Successfully ---\")"
      ],
      "metadata": {
        "colab": {
          "base_uri": "https://localhost:8080/"
        },
        "id": "S366h7y9Wgtl",
        "outputId": "163ac08e-7ea0-49c7-fdb4-fedcc3345ceb"
      },
      "execution_count": 1,
      "outputs": [
        {
          "output_type": "stream",
          "name": "stdout",
          "text": [
            "-------Data Loaded Successfully----\n"
          ]
        }
      ]
    }
  ]
}