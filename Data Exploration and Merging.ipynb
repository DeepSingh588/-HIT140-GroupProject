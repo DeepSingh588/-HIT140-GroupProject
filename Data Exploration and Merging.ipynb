{
  "nbformat": 4,
  "nbformat_minor": 0,
  "metadata": {
    "colab": {
      "provenance": []
    },
    "kernelspec": {
      "name": "python3",
      "display_name": "Python 3"
    },
    "language_info": {
      "name": "python"
    }
  },
  "cells": [
    {
      "cell_type": "code",
      "source": [
        "# Part 2: Data Cleaning and Exploration\n",
        "df1['start_time'] = pd.to_datetime(df1['start_time'], dayfirst=True)\n",
        "df1['rat_period_start'] = pd.to_datetime(df1['rat_period_start'], dayfirst=True)\n",
        "df1['rat_period_end'] = pd.to_datetime(df1['rat_period_end'], dayfirst=True)\n",
        "df2['time'] = pd.to_datetime(df2['time'], dayfirst=True)\n",
        "\n",
        "df_merged = pd.merge_asof(df1.sort_values('start_time'), df2.sort_values('time'),\n",
        "                          left_on='start_time', right_on='time', direction='nearest')\n",
        "\n",
        "print(\"\\n--- Data Cleaning and Merging Complete ---\")\n",
        "print(\"\\nMerged DataFrame Info:\")\n",
        "df_merged.info()\n",
        "print(\"\\nMerged DataFrame Head:\")\n",
        "print(df_merged.head())"
      ],
      "metadata": {
        "colab": {
          "base_uri": "https://localhost:8080/"
        },
        "id": "nHMmQwc9ageo",
        "outputId": "c2346e12-792b-4130-9496-336e71d166ad"
      },
      "execution_count": 5,
      "outputs": [
        {
          "output_type": "stream",
          "name": "stdout",
          "text": [
            "\n",
            "--- Data Cleaning and Merging Complete ---\n",
            "\n",
            "Merged DataFrame Info:\n",
            "<class 'pandas.core.frame.DataFrame'>\n",
            "RangeIndex: 907 entries, 0 to 906\n",
            "Data columns (total 19 columns):\n",
            " #   Column                     Non-Null Count  Dtype         \n",
            "---  ------                     --------------  -----         \n",
            " 0   start_time                 907 non-null    datetime64[ns]\n",
            " 1   bat_landing_to_food        907 non-null    float64       \n",
            " 2   habit                      866 non-null    object        \n",
            " 3   rat_period_start           907 non-null    datetime64[ns]\n",
            " 4   rat_period_end             907 non-null    datetime64[ns]\n",
            " 5   seconds_after_rat_arrival  907 non-null    int64         \n",
            " 6   risk                       907 non-null    int64         \n",
            " 7   reward                     907 non-null    int64         \n",
            " 8   month_x                    907 non-null    int64         \n",
            " 9   sunset_time                907 non-null    object        \n",
            " 10  hours_after_sunset_x       907 non-null    float64       \n",
            " 11  season                     907 non-null    int64         \n",
            " 12  time                       907 non-null    datetime64[ns]\n",
            " 13  month_y                    907 non-null    int64         \n",
            " 14  hours_after_sunset_y       907 non-null    float64       \n",
            " 15  bat_landing_number         907 non-null    int64         \n",
            " 16  food_availability          907 non-null    float64       \n",
            " 17  rat_minutes                907 non-null    float64       \n",
            " 18  rat_arrival_number         907 non-null    int64         \n",
            "dtypes: datetime64[ns](4), float64(5), int64(8), object(2)\n",
            "memory usage: 134.8+ KB\n",
            "\n",
            "Merged DataFrame Head:\n",
            "           start_time  bat_landing_to_food habit    rat_period_start  \\\n",
            "0 2017-12-26 20:57:00                  1.0   NaN 2017-12-26 20:53:00   \n",
            "1 2017-12-26 20:57:00                  5.0   NaN 2017-12-26 20:53:00   \n",
            "2 2017-12-26 21:24:00                  3.0  fast 2017-12-26 21:22:00   \n",
            "3 2017-12-26 21:24:00                 15.0   rat 2017-12-26 21:22:00   \n",
            "4 2017-12-26 21:24:00                  6.0  pick 2017-12-26 21:22:00   \n",
            "\n",
            "       rat_period_end  seconds_after_rat_arrival  risk  reward  month_x  \\\n",
            "0 2017-12-26 20:58:00                        239     0       0        0   \n",
            "1 2017-12-26 20:58:00                        199     0       0        0   \n",
            "2 2017-12-26 21:27:00                        121     0       1        0   \n",
            "3 2017-12-26 21:27:00                         88     1       0        0   \n",
            "4 2017-12-26 21:27:00                        113     0       1        0   \n",
            "\n",
            "        sunset_time  hours_after_sunset_x  season                time  \\\n",
            "0  26/12/2017 16:43              4.248611       0 2017-12-26 20:43:00   \n",
            "1  26/12/2017 16:43              4.237500       0 2017-12-26 20:43:00   \n",
            "2  26/12/2017 16:43              4.693611       0 2017-12-26 21:13:00   \n",
            "3  26/12/2017 16:43              4.684444       0 2017-12-26 21:13:00   \n",
            "4  26/12/2017 16:43              4.691389       0 2017-12-26 21:13:00   \n",
            "\n",
            "   month_y  hours_after_sunset_y  bat_landing_number  food_availability  \\\n",
            "0        0                   4.0                  51           2.968874   \n",
            "1        0                   4.0                  51           2.968874   \n",
            "2        0                   4.5                  53           2.561404   \n",
            "3        0                   4.5                  53           2.561404   \n",
            "4        0                   4.5                  53           2.561404   \n",
            "\n",
            "   rat_minutes  rat_arrival_number  \n",
            "0     1.283333                   2  \n",
            "1     1.283333                   2  \n",
            "2     4.866667                   1  \n",
            "3     4.866667                   1  \n",
            "4     4.866667                   1  \n"
          ]
        }
      ]
    }
  ]
}