{
  "nbformat": 4,
  "nbformat_minor": 0,
  "metadata": {
    "colab": {
      "provenance": []
    },
    "kernelspec": {
      "name": "python3",
      "display_name": "Python 3"
    },
    "language_info": {
      "name": "python"
    }
  },
  "cells": [
    {
      "cell_type": "code",
      "source": [
        "#Part 3: Descriptive and Inferential Analysis\n",
        "print(\"\\n---Descriptive Statistics for Bat Landing Time---\")\n",
        "print(df_merged['bat_landing_to_food'].describe())\n",
        "\n",
        "print(\"\\n---Mean Landing Time by Rat Presence-----\")\n",
        "print(df_merged.groupby('risk')['bat_landing_to_food'].mean())\n",
        "\n",
        "\n",
        "print(\"\\n------Performing Inferential T-test----\")\n",
        "with_rats = df_merged[df_merged['risk'] == 1]['bat_landing_to_food'].dropna()\n",
        "without_rats = df_merged[df_merged['risk'] == 0]['bat_landing_to_food'].dropna()\n",
        "t_stat , p_value = ttest_ind(with_rats,without_rats,equal_var=False)\n",
        "\n",
        "print(f\"T-statistic: {t_stat: .4f}\")\n",
        "print(f\"p-Value: {p_value: .4f}\")\n",
        "\n",
        "if p_value < 0.05:\n",
        "  print(\"Conclusion: Reject the null hypothesis. There is a statistically significant difference in bat behavior.\")\n",
        "else:\n",
        "  print(\"Conclusion: Fail to reject the null hypothesis. There is not statiscally difference in bat behavior.\")\n",
        "\n",
        "print(\"\\n-----Correlation Analysis: Food Availability and Bat Landings---\")\n",
        "correlation = df_merged['food_availability'].corr(df_merged['bat_landing_number'])\n",
        "print(f\"Correlation coefficient between Food Availability and Bat Landings: {correlation: .4f}\")\n",
        "\n",
        "\n",
        "if correlation > 0.5:\n",
        "  print(\"Conclusion: There is a strong positive correation. As food availability increases, the number of bat landings tends to increase \")\n",
        "elif correlation < -0.5:\n",
        "  print(\"Conclusion: There is a strong negative correlation. As food availability decreases, the number of bat landings tens tp decrease\")\n",
        "else:\n",
        "  print(\"Conclusion: There is no strong correlation.\")\n",
        "\n",
        "\n",
        "print(\"\\n----Mean Landing Time by Season----\")\n",
        "print(df_merged.groupby('season')['bat_landing_to_food'].mean())\n",
        "\n",
        "\n",
        "\n",
        "print(\"\\n----Feature Engineering------\")\n",
        "df_merged['bat_density'] = df_merged['bat_landing_number'] / df_merged['hours_after_sunset_y']\n",
        "print(df_merged['bat_density'].describe())\n",
        "\n",
        "\n",
        "\n",
        "\n",
        "\n"
      ],
      "metadata": {
        "id": "Cx3DjI3Ne9vU",
        "colab": {
          "base_uri": "https://localhost:8080/"
        },
        "outputId": "b7664dda-39cf-4aa5-e807-019bbabe8158"
      },
      "execution_count": 12,
      "outputs": [
        {
          "output_type": "stream",
          "name": "stdout",
          "text": [
            "\n",
            "---Descriptive Statistics for Bat Landing Time---\n",
            "count    907.000000\n",
            "mean      11.713134\n",
            "std       27.644410\n",
            "min        0.010238\n",
            "25%        1.000000\n",
            "50%        4.000000\n",
            "75%       11.500000\n",
            "max      443.000000\n",
            "Name: bat_landing_to_food, dtype: float64\n",
            "\n",
            "---Mean Landing Time by Rat Presence-----\n",
            "risk\n",
            "0     7.124469\n",
            "1    16.393777\n",
            "Name: bat_landing_to_food, dtype: float64\n",
            "\n",
            "------Performing Inferential T-test----\n",
            "T-statistic:  5.0965\n",
            "p-Value:  0.0000\n",
            "Conclusion: Reject the null hypothesis. There is a statistically significant difference in bat behavior.\n",
            "\n",
            "-----Correlation Analysis: Food Availability and Bat Landings---\n",
            "Correlation coefficient between Food Availability and Bat Landings:  0.0255\n",
            "Conclusion: There is no strong correlation.\n",
            "\n",
            "----Mean Landing Time by Season----\n",
            "season\n",
            "0     6.039623\n",
            "1    12.846335\n",
            "Name: bat_landing_to_food, dtype: float64\n",
            "\n",
            "----Feature Engineering------\n",
            "count    907.000000\n",
            "mean            inf\n",
            "std             NaN\n",
            "min      -30.000000\n",
            "25%        4.153846\n",
            "50%        9.200000\n",
            "75%       14.400000\n",
            "max             inf\n",
            "Name: bat_density, dtype: float64\n"
          ]
        }
      ]
    }
  ]
}